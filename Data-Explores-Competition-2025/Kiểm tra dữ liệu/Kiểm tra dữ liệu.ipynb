{
 "cells": [
  {
   "cell_type": "code",
   "execution_count": 3,
   "id": "eed12ee4-82f9-4733-a8c5-6785bec7a1c9",
   "metadata": {},
   "outputs": [],
   "source": [
    "import pandas as pd\n",
    "import numpy as np\n",
    "import matplotlib.pyplot as plt\n",
    "import seaborn as sns"
   ]
  },
  {
   "cell_type": "code",
   "execution_count": 4,
   "id": "cbd085e1-4fe7-428b-9292-5e7acb91dd97",
   "metadata": {},
   "outputs": [
    {
     "name": "stdout",
     "output_type": "stream",
     "text": [
      "['Khách hàng', 'Sản phẩm', 'Nhân viên', 'Dữ liệu bán hàng', 'Chi nhánh', 'KPI']\n"
     ]
    }
   ],
   "source": [
    "#Lấy danh sách các sheet trong file excel\n",
    "excel_file = pd.ExcelFile(r'C:\\Users\\Admin\\Downloads\\Kiểm tra dữ liệu\\Data_V1.xlsx')\n",
    "sheet = excel_file.sheet_names\n",
    "print(sheet)"
   ]
  },
  {
   "cell_type": "code",
   "execution_count": 5,
   "id": "1aa6e2c6-41ac-4f1e-84d8-6b6adccb4ccf",
   "metadata": {},
   "outputs": [
    {
     "name": "stdout",
     "output_type": "stream",
     "text": [
      "\n",
      "Sheet: Khách hàng\n",
      "     Mã KH                                         Khách hàng\n",
      "0  KH-0001  CÔNG TY TNHH ĐẦU TƯ PHÁT TRIỂN CÔNG NGHỆ BÁCH ...\n",
      "1  KH-0002  Công ty CP Phát triển Kỹ thuật và Thương mại T...\n",
      "2  KH-0003                        NGƯỜI MUA KHÔNG LẤY HÓA ĐƠN\n",
      "3  KH-0004            CÔNG TY TNHH PRO ACTIVE GLOBAL VIỆT NAM\n",
      "4  KH-0005                       Công ty TNHH Công nghệ Ktech\n",
      "Sheet: Sản phẩm\n",
      "  Mã Sản phẩm                                           Sản phẩm  \\\n",
      "0       P-001                     Phần mềm TeamViewer 12 Premium   \n",
      "1       P-002                   Phần mềm TeamViewer 12 Corporate   \n",
      "2       P-003  Phần mềm Win Home 10 64Bit Eng Intl 1pk DSP OE...   \n",
      "3       P-004                    Phần mềm Teamviewer 12 business   \n",
      "4       P-005  Phần mềm Autodesk AutoCAD LT Commercial Single...   \n",
      "\n",
      "  Nhóm sản phẩm   Giá vốn  \n",
      "0      Phần mềm  17950000  \n",
      "1      Phần mềm  27460000  \n",
      "2      Phần mềm   1470000  \n",
      "3      Phần mềm   8240000  \n",
      "4      Phần mềm   3700000  \n",
      "Sheet: Nhân viên\n",
      "  Mã nhân viên bán     Nhân viên bán\n",
      "0            NV001  Nguyễn Nhật Tiến\n",
      "1            NV002      Hồ Xuân Phúc\n",
      "2            NV003     Đặng Minh Yến\n",
      "3            NV004      Đặng Văn Anh\n",
      "4            NV005      Trần Hữu Yến\n",
      "Sheet: Dữ liệu bán hàng\n",
      "  Ngày hạch toán   Đơn hàng    Mã KH Mã Sản Phẩm  Số lượng bán   Đơn giá  \\\n",
      "0     2024-01-01  ĐH3381365  KH-0052       P-396            10   1215000   \n",
      "1     2024-01-01  ĐH8038262  KH-0257       P-545             5  11655000   \n",
      "2     2024-01-01  ĐH9049637  KH-0727       P-072             7    165000   \n",
      "3     2024-01-01  ĐH1602374  KH-0716       P-530             3  28980000   \n",
      "4     2024-01-01  ĐH8875469  KH-0210       P-204             5  42120000   \n",
      "\n",
      "   Doanh thu  Giá vốn hàng hóa Mã nhân viên bán Chi nhánh  \n",
      "0   12150000           8100000            NV190     CN HN  \n",
      "1   58275000          38850000            NV164     CN DN  \n",
      "2    1155000            770000            NV192     CN DN  \n",
      "3   86940000          57960000            NV233     CN HN  \n",
      "4  210600000         140400000            NV089     CN DN  \n",
      "Sheet: Chi nhánh\n",
      "  Mã chi nhánh          Tên chi nhánh Tỉnh thành phố\n",
      "0        CN HN       Chi nhánh Hà Nội         Hà Nội\n",
      "1       CN HCM  Chi nhánh Hồ Chi Minh    Hồ Chí Minh\n",
      "2        CN DN      Chi nhánh Đà Nẵng        Đà Nẵng\n",
      "Sheet: KPI\n",
      "  YearMonth Mã chi nhánh          KPI\n",
      "0   2024-01        CN DN  25000000000\n",
      "1   2024-01       CN HCM  25000000000\n",
      "2   2024-01        CN HN  25000000000\n",
      "3   2024-02        CN DN  25000000000\n",
      "4   2024-02       CN HCM  25000000000\n"
     ]
    }
   ],
   "source": [
    "#đọc từng sheet trong excel\n",
    "Khach_hang=pd.read_excel(r'C:\\Users\\Admin\\Downloads\\Kiểm tra dữ liệu\\Data_V1.xlsx', sheet_name = 'Khách hàng')\n",
    "print()\n",
    "def docsheet(sheets):\n",
    "    sheet_dict={}\n",
    "    for sheet in sheets:\n",
    "        sheet_dict[sheet] = pd.read_excel(r'C:\\Users\\Admin\\Downloads\\Kiểm tra dữ liệu\\Data_V1.xlsx', sheet_name = sheet)\n",
    "        print(f\"Sheet: {sheet}\")\n",
    "        print(sheet_dict[sheet].head())\n",
    "    return sheet_dict\n",
    "sheets_data = docsheet(sheet)"
   ]
  },
  {
   "cell_type": "code",
   "execution_count": 6,
   "id": "a6b0993e-0a0a-4214-80b7-2e96d96f7414",
   "metadata": {},
   "outputs": [
    {
     "name": "stdout",
     "output_type": "stream",
     "text": [
      "Khách hàng - Dữ liệu bị thiếu: Mã KH         0\n",
      "Khách hàng    0\n",
      "dtype: int64\n",
      "Sản phẩm - Dữ liệu bị thiếu: Mã Sản phẩm      0\n",
      "Sản phẩm         0\n",
      "Nhóm sản phẩm    0\n",
      "Giá vốn          0\n",
      "dtype: int64\n",
      "Nhân viên - Dữ liệu bị thiếu: Mã nhân viên bán    0\n",
      "Nhân viên bán       0\n",
      "dtype: int64\n",
      "Dữ liệu bán hàng - Dữ liệu bị thiếu: Ngày hạch toán      0\n",
      "Đơn hàng            0\n",
      "Mã KH               0\n",
      "Mã Sản Phẩm         0\n",
      "Số lượng bán        0\n",
      "Đơn giá             0\n",
      "Doanh thu           0\n",
      "Giá vốn hàng hóa    0\n",
      "Mã nhân viên bán    0\n",
      "Chi nhánh           0\n",
      "dtype: int64\n",
      "Chi nhánh - Dữ liệu bị thiếu: Mã chi nhánh      0\n",
      "Tên chi nhánh     0\n",
      "Tỉnh thành phố    0\n",
      "dtype: int64\n",
      "KPI - Dữ liệu bị thiếu: YearMonth       0\n",
      "Mã chi nhánh    0\n",
      "KPI             0\n",
      "dtype: int64\n"
     ]
    }
   ],
   "source": [
    "for sheets in sheet:\n",
    "    print(f'{sheets} - Dữ liệu bị thiếu: {sheets_data[sheets].isnull().sum()}')"
   ]
  },
  {
   "cell_type": "code",
   "execution_count": 20,
   "id": "38944d26-b6e6-4da9-a3fc-8dfdf73627ee",
   "metadata": {},
   "outputs": [],
   "source": [
    "cols_to_drop = ['Unnamed: 10', 'Unnamed: 11', 'Unnamed: 12', 'Unnamed: 13', 'Unnamed: 14']\n",
    "existing_cols = [col for col in cols_to_drop if col in sheets_data['Dữ liệu bán hàng'].columns]\n",
    "\n",
    "sheets_data['Dữ liệu bán hàng'].drop(columns=existing_cols, inplace=True)\n"
   ]
  },
  {
   "cell_type": "code",
   "execution_count": 21,
   "id": "a7158995-0fa7-403a-af0c-eb8aacae05b0",
   "metadata": {},
   "outputs": [
    {
     "name": "stdout",
     "output_type": "stream",
     "text": [
      "Khách hàng - Dữ liệu bị thiếu: Mã KH         0\n",
      "Khách hàng    0\n",
      "dtype: int64\n",
      "Sản phẩm - Dữ liệu bị thiếu: Mã Sản phẩm      0\n",
      "Sản phẩm         0\n",
      "Nhóm sản phẩm    0\n",
      "Giá vốn          0\n",
      "dtype: int64\n",
      "Nhân viên - Dữ liệu bị thiếu: Mã nhân viên bán    0\n",
      "Nhân viên bán       0\n",
      "dtype: int64\n",
      "Dữ liệu bán hàng - Dữ liệu bị thiếu: Ngày hạch toán      0\n",
      "Đơn hàng            0\n",
      "Mã KH               0\n",
      "Mã Sản Phẩm         0\n",
      "Số lượng bán        0\n",
      "Đơn giá             0\n",
      "Doanh thu           0\n",
      "Giá vốn hàng hóa    0\n",
      "Mã nhân viên bán    0\n",
      "Chi nhánh           0\n",
      "dtype: int64\n",
      "Chi nhánh - Dữ liệu bị thiếu: Mã chi nhánh      0\n",
      "Tên chi nhánh     0\n",
      "Tỉnh thành phố    0\n",
      "dtype: int64\n",
      "KPI - Dữ liệu bị thiếu: YearMonth       0\n",
      "Mã chi nhánh    0\n",
      "KPI             0\n",
      "dtype: int64\n"
     ]
    }
   ],
   "source": [
    "for sheets in sheet:\n",
    "    print(f'{sheets} - Dữ liệu bị thiếu: {sheets_data[sheets].isnull().sum()}')"
   ]
  },
  {
   "cell_type": "code",
   "execution_count": 22,
   "id": "98367af2-1463-4f97-806f-6f7517ef4174",
   "metadata": {},
   "outputs": [
    {
     "name": "stdout",
     "output_type": "stream",
     "text": [
      "Khách hàng - Dữ liệu bị trùng lặp: 0\n",
      "Sản phẩm - Dữ liệu bị trùng lặp: 0\n",
      "Nhân viên - Dữ liệu bị trùng lặp: 0\n",
      "Dữ liệu bán hàng - Dữ liệu bị trùng lặp: 0\n",
      "Chi nhánh - Dữ liệu bị trùng lặp: 0\n",
      "KPI - Dữ liệu bị trùng lặp: 0\n"
     ]
    }
   ],
   "source": [
    "for sheets in sheet:\n",
    "    print(f'{sheets} - Dữ liệu bị trùng lặp: {sheets_data[sheets].duplicated().sum()}')"
   ]
  },
  {
   "cell_type": "code",
   "execution_count": 25,
   "id": "41eef598-6517-4659-8811-7c0d36703998",
   "metadata": {},
   "outputs": [
    {
     "name": "stdout",
     "output_type": "stream",
     "text": [
      "Khách hàng - Kiểu dữ liệu: Mã KH         object\n",
      "Khách hàng    object\n",
      "dtype: object\n",
      "Sản phẩm - Kiểu dữ liệu: Mã Sản phẩm      object\n",
      "Sản phẩm         object\n",
      "Nhóm sản phẩm    object\n",
      "Giá vốn           int64\n",
      "dtype: object\n",
      "Nhân viên - Kiểu dữ liệu: Mã nhân viên bán    object\n",
      "Nhân viên bán       object\n",
      "dtype: object\n",
      "Dữ liệu bán hàng - Kiểu dữ liệu: Ngày hạch toán      datetime64[ns]\n",
      "Đơn hàng                    object\n",
      "Mã KH                       object\n",
      "Mã Sản Phẩm                 object\n",
      "Số lượng bán                 int64\n",
      "Đơn giá                      int64\n",
      "Doanh thu                    int64\n",
      "Giá vốn hàng hóa             int64\n",
      "Mã nhân viên bán            object\n",
      "Chi nhánh                   object\n",
      "dtype: object\n",
      "Chi nhánh - Kiểu dữ liệu: Mã chi nhánh      object\n",
      "Tên chi nhánh     object\n",
      "Tỉnh thành phố    object\n",
      "dtype: object\n",
      "KPI - Kiểu dữ liệu: YearMonth       object\n",
      "Mã chi nhánh    object\n",
      "KPI              int64\n",
      "dtype: object\n"
     ]
    }
   ],
   "source": [
    "for sheets in sheet:\n",
    "    print(f'{sheets} - Kiểu dữ liệu: {sheets_data[sheets].dtypes}')"
   ]
  },
  {
   "cell_type": "code",
   "execution_count": 32,
   "id": "96b090cf-3f69-4208-8e6f-bd9e2d18e139",
   "metadata": {},
   "outputs": [
    {
     "data": {
      "text/plain": [
       "<function dict.keys>"
      ]
     },
     "execution_count": 32,
     "metadata": {},
     "output_type": "execute_result"
    }
   ],
   "source": [
    "sheets_data.keys"
   ]
  },
  {
   "cell_type": "code",
   "execution_count": 36,
   "id": "443ca986-dfee-45c7-9f50-b1428af9d92f",
   "metadata": {},
   "outputs": [],
   "source": [
    "with pd.ExcelWriter(r'C:\\Users\\Admin\\Downloads\\Kiểm tra dữ liệu\\Kiemtradulieu.xlsx') as writer:\n",
    "    for sheet, df in sheets_data.items():\n",
    "        df.to_excel(writer, sheet_name = sheet, index = False)\n",
    "    writer._save()"
   ]
  },
  {
   "cell_type": "code",
   "execution_count": 12,
   "id": "d728e91a-a0c3-4bc1-8aac-dee2f122d0e0",
   "metadata": {},
   "outputs": [
    {
     "data": {
      "text/plain": [
       "['Ngày hạch toán',\n",
       " 'Đơn hàng',\n",
       " 'Mã KH',\n",
       " 'Mã Sản Phẩm',\n",
       " 'Số lượng bán',\n",
       " 'Đơn giá',\n",
       " 'Doanh thu',\n",
       " 'Giá vốn hàng hóa',\n",
       " 'Mã nhân viên bán',\n",
       " 'Chi nhánh']"
      ]
     },
     "execution_count": 12,
     "metadata": {},
     "output_type": "execute_result"
    }
   ],
   "source": [
    "cols_in_data = [col for col in sheets_data['Dữ liệu bán hàng'].columns]\n",
    "cols_in_data"
   ]
  },
  {
   "cell_type": "code",
   "execution_count": 18,
   "id": "1d3c99de-b834-4cb8-b386-01385745c40f",
   "metadata": {},
   "outputs": [
    {
     "name": "stdout",
     "output_type": "stream",
     "text": [
      "Số dòng có ít nhất một ô bằng 0: 15\n"
     ]
    }
   ],
   "source": [
    "count_rows_with_zeros = (sheets_data['Sản phẩm'] == 0).any(axis=1).sum()\n",
    "print(f\"Số dòng có ít nhất một ô bằng 0: {count_rows_with_zeros}\")\n"
   ]
  },
  {
   "cell_type": "code",
   "execution_count": 22,
   "id": "fe6e1383-aef9-4a6b-8fb0-b77c479beb45",
   "metadata": {},
   "outputs": [
    {
     "name": "stdout",
     "output_type": "stream",
     "text": [
      "[190]\n"
     ]
    }
   ],
   "source": [
    "cols_to_drop = ['Đơn giá', 'Doanh thu', 'Giá vốn hàng hóa']\n",
    "existing_cols = [sheets_data['Dữ liệu bán hàng'][cols_to_drop].eq(0).any(axis =1).sum()]\n",
    "\n",
    "print(existing_cols)"
   ]
  },
  {
   "cell_type": "code",
   "execution_count": null,
   "id": "b9628a15-c15f-4da5-be1b-82a56defbbd7",
   "metadata": {},
   "outputs": [],
   "source": []
  }
 ],
 "metadata": {
  "kernelspec": {
   "display_name": "Python 3 (ipykernel)",
   "language": "python",
   "name": "python3"
  },
  "language_info": {
   "codemirror_mode": {
    "name": "ipython",
    "version": 3
   },
   "file_extension": ".py",
   "mimetype": "text/x-python",
   "name": "python",
   "nbconvert_exporter": "python",
   "pygments_lexer": "ipython3",
   "version": "3.12.6"
  }
 },
 "nbformat": 4,
 "nbformat_minor": 5
}
